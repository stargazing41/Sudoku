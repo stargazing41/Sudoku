{
 "cells": [
  {
   "cell_type": "code",
   "execution_count": 4,
   "metadata": {},
   "outputs": [
    {
     "name": "stdout",
     "output_type": "stream",
     "text": [
      "top\n",
      "[3, 2, 1]\n",
      "middle\n",
      "[1, 3, 2]\n",
      "bottom\n",
      "[2, 1, 3]\n"
     ]
    }
   ],
   "source": [
    "import random\n",
    "\n",
    "top=random.sample(range(1,4),3)\n",
    "print('top')\n",
    "print(top)\n",
    "while(True):\n",
    "    mid=random.sample(range(1,4),3)\n",
    "    if mid[0]!=top[0] and mid[1]!=top[1] and mid[2]!=top[2]:\n",
    "        midcon=mid\n",
    "        print('middle')\n",
    "        print(midcon)\n",
    "        break\n",
    "botcon=[0,0,0]\n",
    "for bot in range (1,4):\n",
    "    if bot != mid[0] and bot != top[0]:\n",
    "        botcon[0]=bot\n",
    "    if bot != mid[1] and bot != top[1]:\n",
    "        botcon[1]=bot\n",
    "    if bot != mid[2] and bot != top[2]:\n",
    "        botcon[2]=bot\n",
    "print('bottom')\n",
    "print(botcon)"
   ]
  },
  {
   "cell_type": "code",
   "execution_count": 11,
   "metadata": {},
   "outputs": [],
   "source": [
    "while(True):\n",
    "    h=[0,0,0]\n",
    "    h[0]=random.randint(0,1)\n",
    "    if h[0]==1:\n",
    "        h=[1,0,0]\n",
    "        break\n",
    "    elif h[0]==0:\n",
    "        h[1]=random.randint(0,1)\n",
    "        if h[1]==1:\n",
    "            h=[0,1,0]\n",
    "            break\n",
    "    else:\n",
    "        h[2]=random.randint(0,1)\n",
    "        if h[2]==1:\n",
    "            h=[0,0,1]\n",
    "            break"
   ]
  },
  {
   "cell_type": "code",
   "execution_count": 12,
   "metadata": {},
   "outputs": [
    {
     "data": {
      "text/plain": [
       "[1, 0, 0]"
      ]
     },
     "execution_count": 12,
     "metadata": {},
     "output_type": "execute_result"
    }
   ],
   "source": [
    "h"
   ]
  },
  {
   "cell_type": "code",
   "execution_count": 102,
   "metadata": {},
   "outputs": [
    {
     "name": "stdout",
     "output_type": "stream",
     "text": [
      "['3', '_', '_']\n",
      "['2', '_', '_']\n",
      "['3', '_', '_']\n"
     ]
    }
   ],
   "source": [
    "hilo=[0,0,0]\n",
    "num=random.randint(0,2)\n",
    "hilo[num]=1\n",
    "l=['_', '_', '_']\n",
    "la=['_',\"_\", '_']\n",
    "lab=['_', '_', '_']\n",
    "for i in range (0,3):\n",
    "    if hilo[i]==1:\n",
    "        l[i]=str((top[i]))\n",
    "hilo=[0,0,0]\n",
    "num=random.randint(0,2)\n",
    "hilo[num]=1\n",
    "for g in range(0,3):\n",
    "    if hilo[g]==1:\n",
    "        la[g]=str((midcon[g]))\n",
    "hilo=[0,0,0]\n",
    "num=random.randint(0,2)\n",
    "hilo[num]=1\n",
    "for s in range (0,3):\n",
    "    if hilo[s]==1:\n",
    "        lab[s]=str((botcon[s]))\n",
    "print(l)\n",
    "print(la)\n",
    "print(lab)"
   ]
  },
  {
   "cell_type": "code",
   "execution_count": 104,
   "metadata": {},
   "outputs": [
    {
     "data": {
      "text/plain": [
       "[3, 2, 1]"
      ]
     },
     "execution_count": 104,
     "metadata": {},
     "output_type": "execute_result"
    }
   ],
   "source": [
    "top"
   ]
  },
  {
   "cell_type": "code",
   "execution_count": 105,
   "metadata": {},
   "outputs": [
    {
     "data": {
      "text/plain": [
       "[2, 1, 3]"
      ]
     },
     "execution_count": 105,
     "metadata": {},
     "output_type": "execute_result"
    }
   ],
   "source": [
    "botcon"
   ]
  },
  {
   "cell_type": "code",
   "execution_count": 106,
   "metadata": {},
   "outputs": [
    {
     "data": {
      "text/plain": [
       "[1, 3, 2]"
      ]
     },
     "execution_count": 106,
     "metadata": {},
     "output_type": "execute_result"
    }
   ],
   "source": [
    "midcon"
   ]
  }
 ],
 "metadata": {
  "kernelspec": {
   "display_name": "Python 3",
   "language": "python",
   "name": "python3"
  },
  "language_info": {
   "codemirror_mode": {
    "name": "ipython",
    "version": 3
   },
   "file_extension": ".py",
   "mimetype": "text/x-python",
   "name": "python",
   "nbconvert_exporter": "python",
   "pygments_lexer": "ipython3",
   "version": "3.7.7"
  }
 },
 "nbformat": 4,
 "nbformat_minor": 4
}
