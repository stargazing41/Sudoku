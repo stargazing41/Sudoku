{
 "cells": [
  {
   "cell_type": "code",
   "execution_count": 4,
   "metadata": {},
   "outputs": [
    {
     "name": "stdout",
     "output_type": "stream",
     "text": [
      "top\n",
      "[3, 2, 1]\n",
      "middle\n",
      "[1, 3, 2]\n",
      "bottom\n",
      "[2, 1, 3]\n"
     ]
    }
   ],
   "source": [
    "import random\n",
    "\n",
    "top=random.sample(range(1,4),3)\n",
    "print('top')\n",
    "print(top)\n",
    "while(True):\n",
    "    mid=random.sample(range(1,4),3)\n",
    "    if mid[0]!=top[0] and mid[1]!=top[1] and mid[2]!=top[2]:\n",
    "        midcon=mid\n",
    "        print('middle')\n",
    "        print(midcon)\n",
    "        break\n",
    "botcon=[0,0,0]\n",
    "for bot in range (1,4):\n",
    "    if bot != mid[0] and bot != top[0]:\n",
    "        botcon[0]=bot\n",
    "    if bot != mid[1] and bot != top[1]:\n",
    "        botcon[1]=bot\n",
    "    if bot != mid[2] and bot != top[2]:\n",
    "        botcon[2]=bot\n",
    "print('bottom')\n",
    "print(botcon)"
   ]
  },
  {
   "cell_type": "code",
   "execution_count": 5,
   "metadata": {},
   "outputs": [],
   "source": [
    "while(True):\n",
    "    h=[0,0,0]\n",
    "    h[0]=random.randint(0,1)\n",
    "    if h[0]==1:\n",
    "        h=[1,0,0]\n",
    "        break\n",
    "    elif h[0]==0:\n",
    "        h[1]=random.randint(0,1)\n",
    "        if h[1]==1:\n",
    "            h=[0,1,0]\n",
    "            break\n",
    "    else:\n",
    "        h[2]=random.randint(0,1)\n",
    "        if h[2]==1:\n",
    "            h=[0,0,1]\n",
    "            break"
   ]
  },
  {
   "cell_type": "code",
   "execution_count": 6,
   "metadata": {},
   "outputs": [
    {
     "data": {
      "text/plain": [
       "[0, 1, 0]"
      ]
     },
     "execution_count": 6,
     "metadata": {},
     "output_type": "execute_result"
    }
   ],
   "source": [
    "h"
   ]
  }
 ],
 "metadata": {
  "kernelspec": {
   "display_name": "Python 3",
   "language": "python",
   "name": "python3"
  },
  "language_info": {
   "codemirror_mode": {
    "name": "ipython",
    "version": 3
   },
   "file_extension": ".py",
   "mimetype": "text/x-python",
   "name": "python",
   "nbconvert_exporter": "python",
   "pygments_lexer": "ipython3",
   "version": "3.7.7"
  }
 },
 "nbformat": 4,
 "nbformat_minor": 4
}
